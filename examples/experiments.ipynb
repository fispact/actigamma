{
 "cells": [
  {
   "cell_type": "code",
   "execution_count": 1,
   "metadata": {},
   "outputs": [],
   "source": [
    "import numpy as np\n",
    "import math\n",
    "import random\n",
    "import matplotlib.pyplot as plt\n",
    "from sklearn.model_selection import train_test_split\n",
    "from sklearn.multioutput import MultiOutputClassifier\n",
    "from sklearn.preprocessing import Binarizer, MultiLabelBinarizer\n",
    "from sklearn.datasets import make_classification\n",
    "from sklearn.ensemble import RandomForestClassifier"
   ]
  },
  {
   "cell_type": "code",
   "execution_count": 2,
   "metadata": {},
   "outputs": [],
   "source": [
    "import actigamma as ag"
   ]
  },
  {
   "cell_type": "code",
   "execution_count": 3,
   "metadata": {},
   "outputs": [],
   "source": [
    "# generate a dataset based on 100 bins from 0 to 2 MeV\n",
    "MINENERGY = 0.0\n",
    "MAXENERGY = 4e6\n",
    "NBINS = 200\n",
    "SPECTYPE = \"gamma\"\n",
    "\n",
    "# setup the DB\n",
    "db = ag.Decay2012Database()\n",
    "grid = ag.EnergyGrid(bounds=ag.linspace(MINENERGY, MAXENERGY, NBINS+1))"
   ]
  },
  {
   "cell_type": "code",
   "execution_count": 4,
   "metadata": {},
   "outputs": [],
   "source": [
    "class RandomLineAggregator(ag.LineAggregator):\n",
    "    \"\"\"\n",
    "        Randomly vary the line energies by their uncertainty\n",
    "\n",
    "        TODO: randomly remove lines with low intensity or related to their intensity\n",
    "    \"\"\"\n",
    "    def _findlines(self, inventory: ag.UnstablesInventory, *args, spectype: str=\"gamma\", **kwargs):\n",
    "        lines = []\n",
    "        values = []\n",
    "\n",
    "        nrofsigma = 1\n",
    "        if 'nrofsigma' in kwargs:\n",
    "            nrofsigma = kwargs['nrofsigma']\n",
    "\n",
    "        for zai, activity in inventory:\n",
    "            name = self.db.getname(zai)\n",
    "            # check it exists in database\n",
    "            if name not in self.db:\n",
    "                raise ag.UnknownOrUnstableNuclideException(\n",
    "                    \"{} not in database - maybe too exotic or is it stable?\".format(zai))\n",
    "\n",
    "            # check that data exists for that decay type\n",
    "            if spectype not in self.db.gettypes(name):\n",
    "                raise ag.NoDataException(\n",
    "                    \"{} does not have {} decay mode\".format(name, spectype))\n",
    "\n",
    "            energies = self.db.getenergies(name, spectype=spectype)\n",
    "            energyunc = self.db.getenergiesunc(name, spectype=spectype)\n",
    "            intensities = self.db.getintensities(name, spectype=spectype)*activity\n",
    "\n",
    "            newenergies = []\n",
    "            for emean, eunc in zip(energies, energyunc):\n",
    "                newenergies.append(np.random.normal(emean, eunc*nrofsigma))\n",
    "            lines.extend(np.array(newenergies))\n",
    "            values.extend(intensities)\n",
    "\n",
    "        return lines, values"
   ]
  },
  {
   "cell_type": "code",
   "execution_count": 5,
   "metadata": {},
   "outputs": [
    {
     "name": "stdout",
     "output_type": "stream",
     "text": [
      "1750\n"
     ]
    }
   ],
   "source": [
    "# just take 10 nuclides at random\n",
    "allradionuclides = db.allnuclidesoftype(spectype=SPECTYPE)\n",
    "radionuclides = allradionuclides\n",
    "random.shuffle(allradionuclides)\n",
    "print(len(allradionuclides))"
   ]
  },
  {
   "cell_type": "code",
   "execution_count": 6,
   "metadata": {},
   "outputs": [],
   "source": [
    "# create a line aggregator based on randomly varying the line energy\n",
    "lc = RandomLineAggregator(db, grid)"
   ]
  },
  {
   "cell_type": "code",
   "execution_count": 7,
   "metadata": {},
   "outputs": [],
   "source": [
    "def get_random_inventory(maxnuclides=5):\n",
    "    # randomly pick between 1 and maxnuclides to generate data\n",
    "    nrofnuclides = random.randrange(1, maxnuclides+1)\n",
    "    # pick nrofnuclides - must be unique \n",
    "    nuclides = []\n",
    "    indices = []\n",
    "    while len(nuclides) < nrofnuclides:\n",
    "        indx = random.randrange(maxnuclides)\n",
    "        nuclide = allradionuclides[indx]\n",
    "        if nuclide not in nuclides:\n",
    "            nuclides.append(nuclide)\n",
    "            indices.append(indx)\n",
    "\n",
    "    # random activity between 1e18 and 1e21 atoms\n",
    "    inv = ag.UnstablesInventory(data=[(db.getzai(n),\n",
    "        ag.activity_from_atoms(db, n, np.random.uniform(low=1e18, high=1e21))) \\\n",
    "            for n in nuclides])\n",
    "    hist, _ = lc(inv, spectype=SPECTYPE, nrofsigma=3)\n",
    "    return hist, indices, inv,"
   ]
  },
  {
   "cell_type": "code",
   "execution_count": 8,
   "metadata": {},
   "outputs": [],
   "source": [
    "def plot_inventory(hist, inv=None, newfig=True, colour='k', logy=True, **kwargs):\n",
    "    X, Y = ag.getplotvalues(grid.bounds, hist)\n",
    "    if newfig:\n",
    "        fig = plt.figure(figsize=(12,7))\n",
    "    plt.plot(X, Y, colour)\n",
    "    plt.xlabel(\"Energy ({})\".format(grid.units), fontsize=18)\n",
    "    plt.ylabel(\"{} per unit time (s-1)\".format(SPECTYPE), fontsize=18)\n",
    "    if logy:\n",
    "        plt.yscale('log')\n",
    "#     plt.show()\n",
    "    if inv:\n",
    "        print([db.getname(zai) for zai in inv.zais])\n",
    "        print([act for act in inv.activities])"
   ]
  },
  {
   "cell_type": "code",
   "execution_count": 9,
   "metadata": {},
   "outputs": [
    {
     "name": "stdout",
     "output_type": "stream",
     "text": [
      "['Rn221', 'I134', 'Hg197m', 'Mo105', 'Ar35']\n",
      "[1.5181028617948995e+17, 1.7406162249871696e+17, 1500580040784597.2, 1.6366929561438765e+19, 1.542545718269582e+20]\n"
     ]
    },
    {
     "data": {
      "image/png": "[encoded data removed]",
      "text/plain": [
       "<Figure size 864x504 with 1 Axes>"
      ]
     },
     "metadata": {
      "needs_background": "light"
     },
     "output_type": "display_data"
    }
   ],
   "source": [
    "hist, _, inv = get_random_inventory()\n",
    "plot_inventory(hist, inv)"
   ]
  },
  {
   "cell_type": "code",
   "execution_count": 10,
   "metadata": {},
   "outputs": [],
   "source": [
    "# make a dataset based on randomly generated variations of sample data\n",
    "NSAMPLES = 1000\n",
    "datasetX, datasetY = [], []\n",
    "for _ in range(NSAMPLES):\n",
    "    hist, indices, _ = get_random_inventory(maxnuclides=5)\n",
    "    datasetX.append(np.array(hist))\n",
    "    datasetY.append(indices)"
   ]
  },
  {
   "cell_type": "code",
   "execution_count": 11,
   "metadata": {},
   "outputs": [],
   "source": [
    "# let's look at scaling\n",
    "from sklearn.preprocessing import MinMaxScaler\n",
    "from sklearn.preprocessing import MaxAbsScaler\n",
    "from sklearn.preprocessing import StandardScaler\n",
    "from sklearn.preprocessing import RobustScaler\n",
    "from sklearn.preprocessing import Normalizer\n",
    "from sklearn.preprocessing import QuantileTransformer\n",
    "from sklearn.preprocessing import PowerTransformer\n",
    "    \n",
    "# fig, ax1 = plt.subplots(figsize=(12,7))\n",
    "        \n",
    "# X, Y = ag.getplotvalues(grid.bounds, datasetX[0])\n",
    "# ax1.plot(X, Y, 'k')\n",
    "# ax1.set_xlabel(\"Energy ({})\".format(grid.units), fontsize=18)\n",
    "# ax1.set_ylabel(\"{} per unit time (s-1)\".format(SPECTYPE), fontsize=18)\n",
    "# ax1.set_yscale('log')\n",
    "\n",
    "# # convert to log values then min max scale\n",
    "# data_min = np.nanmin(datasetX, axis=1)\n",
    "# data_max = np.nanmax(datasetX, axis=1)\n",
    "# for i, data in enumerate(datasetX):\n",
    "#     datasetX[i] = (np.log(data+1) - data_min[i]) / (math.log(data_max[i]) - data_min[i])\n",
    "# # we need to scale values from log to [0,1] -> how best to do this?\n",
    "# # datasetX = MinMaxScaler().fit_transform(datasetX)\n",
    "\n",
    "# ax2 = ax1.twinx()\n",
    "# ax2.set_ylabel(\"Scaled\")\n",
    "# X, Y = ag.getplotvalues(grid.bounds, datasetX[0])\n",
    "# ax2.plot(X, Y, 'r')"
   ]
  },
  {
   "cell_type": "code",
   "execution_count": 12,
   "metadata": {},
   "outputs": [],
   "source": [
    "# ignore scaling altogether and just have binary values (0=no lines, 1=lines present in bin)\n",
    "datasetX = Binarizer().transform(datasetX)\n",
    "datasetY = MultiLabelBinarizer().fit_transform(datasetY)"
   ]
  },
  {
   "cell_type": "code",
   "execution_count": 13,
   "metadata": {},
   "outputs": [],
   "source": [
    "X_train, X_test, y_train, y_test = \\\n",
    "    train_test_split(datasetX, datasetY, test_size=.4, random_state=42)"
   ]
  },
  {
   "cell_type": "code",
   "execution_count": 14,
   "metadata": {},
   "outputs": [
    {
     "data": {
      "text/plain": [
       "array([[1, 1, 1, 1, 0],\n",
       "       [1, 1, 1, 1, 1],\n",
       "       [1, 1, 1, 1, 1],\n",
       "       ...,\n",
       "       [0, 1, 1, 1, 0],\n",
       "       [0, 0, 0, 1, 1],\n",
       "       [1, 0, 0, 1, 1]])"
      ]
     },
     "execution_count": 14,
     "metadata": {},
     "output_type": "execute_result"
    }
   ],
   "source": [
    "y_train"
   ]
  },
  {
   "cell_type": "code",
   "execution_count": 15,
   "metadata": {},
   "outputs": [],
   "source": [
    "classifier = MultiOutputClassifier(RandomForestClassifier(n_estimators=100, max_features='auto', verbose=False))"
   ]
  },
  {
   "cell_type": "code",
   "execution_count": 16,
   "metadata": {},
   "outputs": [
    {
     "name": "stdout",
     "output_type": "stream",
     "text": [
      "0.6825\n"
     ]
    }
   ],
   "source": [
    "classifier.fit(X_train, y_train)\n",
    "score = classifier.score(X_test, y_test)\n",
    "print(score)"
   ]
  },
  {
   "cell_type": "code",
   "execution_count": 17,
   "metadata": {},
   "outputs": [],
   "source": [
    "# plot + predict\n",
    "def plot_and_predict(indices):\n",
    "    testnuclides = [radionuclides[i] for i in indices]\n",
    "    inv = ag.UnstablesInventory(data=[(db.getzai(n), \n",
    "                                       ag.activity_from_atoms(db, \n",
    "                                                              n, \n",
    "                                                              np.random.uniform(low=1e18, high=1e21))) \n",
    "                                      for n in testnuclides])\n",
    "\n",
    "    lc = ag.LineAggregator(db, grid)\n",
    "    hist, _ = lc(inv, spectype=SPECTYPE)\n",
    "    prediction = classifier.predict([[1 if bin > 0 else 0 for bin in hist ]])\n",
    "    print([i for i, n in enumerate(prediction[0]) if n > 0])\n",
    "    plot_inventory(hist)"
   ]
  },
  {
   "cell_type": "code",
   "execution_count": 18,
   "metadata": {},
   "outputs": [
    {
     "name": "stdout",
     "output_type": "stream",
     "text": [
      "[1]\n"
     ]
    },
    {
     "data": {
      "image/png": "[encoded data removed]",
      "text/plain": [
       "<Figure size 864x504 with 1 Axes>"
      ]
     },
     "metadata": {
      "needs_background": "light"
     },
     "output_type": "display_data"
    }
   ],
   "source": [
    "plot_and_predict([1])"
   ]
  },
  {
   "cell_type": "code",
   "execution_count": 19,
   "metadata": {},
   "outputs": [
    {
     "name": "stdout",
     "output_type": "stream",
     "text": [
      "[0, 1, 2]\n"
     ]
    },
    {
     "data": {
      "image/png": "[encoded data removed]",
      "text/plain": [
       "<Figure size 864x504 with 1 Axes>"
      ]
     },
     "metadata": {
      "needs_background": "light"
     },
     "output_type": "display_data"
    }
   ],
   "source": [
    "plot_and_predict([0, 1, 2])"
   ]
  },
  {
   "cell_type": "code",
   "execution_count": null,
   "metadata": {},
   "outputs": [],
   "source": []
  }
 ],
 "metadata": {
  "kernelspec": {
   "display_name": "Python 3",
   "language": "python",
   "name": "python3"
  },
  "language_info": {
   "codemirror_mode": {
    "name": "ipython",
    "version": 3
   },
   "file_extension": ".py",
   "mimetype": "text/x-python",
   "name": "python",
   "nbconvert_exporter": "python",
   "pygments_lexer": "ipython3",
   "version": "3.7.3"
  }
 },
 "nbformat": 4,
 "nbformat_minor": 2
}
